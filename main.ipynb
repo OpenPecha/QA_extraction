{
 "cells": [
  {
   "cell_type": "code",
   "execution_count": null,
   "metadata": {},
   "outputs": [],
   "source": [
    "pip install datasets"
   ]
  },
  {
   "cell_type": "code",
   "execution_count": 1,
   "metadata": {},
   "outputs": [
    {
     "name": "stderr",
     "output_type": "stream",
     "text": [
      "/Library/Frameworks/Python.framework/Versions/3.11/lib/python3.11/site-packages/tqdm/auto.py:21: TqdmWarning: IProgress not found. Please update jupyter and ipywidgets. See https://ipywidgets.readthedocs.io/en/stable/user_install.html\n",
      "  from .autonotebook import tqdm as notebook_tqdm\n"
     ]
    }
   ],
   "source": [
    "from pathlib import Path\n",
    "import os\n",
    "from datasets import load_dataset,Dataset \n",
    "import re"
   ]
  },
  {
   "cell_type": "code",
   "execution_count": 2,
   "metadata": {},
   "outputs": [],
   "source": [
    "def preprocess_text(text):\n",
    "    text = text.replace('\\n', '')\n",
    "    text = text.replace('།','། ')\n",
    "    text = text.replace('། །','།།')\n",
    "    text = text.replace('  ',' ')\n",
    "    text = text.replace('།།།','།།')\n",
    "    text = text.replace('།།།','།།')\n",
    "    text = text.replace('ལན།','\\nལན།')\n",
    "    return text\n",
    "\n",
    "def get_qa_pairs(text):\n",
    "    qa_pairs = []\n",
    "    for line in text.split('\\n'):\n",
    "        if line:\n",
    "            line = line.split()\n",
    "            qa_pairs.append((' '.join(line[:-1]), line[-1]))\n",
    "    return qa_pairs\n"
   ]
  },
  {
   "cell_type": "code",
   "execution_count": 6,
   "metadata": {},
   "outputs": [
    {
     "name": "stdout",
     "output_type": "stream",
     "text": [
      "done\n"
     ]
    }
   ],
   "source": [
    "text = Path('test.txt').read_text(encoding='utf-8')\n",
    "text=preprocess_text(text)\n",
    "data=get_qa_pairs(text) \n",
    "\n",
    "datadic={'question':[],'answer':[]}\n",
    "try:\n",
    "    for i in range(len(data)):\n",
    "        datadic['question'].append(data[i][1])\n",
    "        datadic['answer'].append(data[i+1][0])\n",
    "except:\n",
    "    print('done')"
   ]
  },
  {
   "cell_type": "code",
   "execution_count": 7,
   "metadata": {},
   "outputs": [],
   "source": [
    "datadic['question']=datadic['question'][:-1] #if you want to remove last question\n",
    "dataset = Dataset.from_dict(datadic)"
   ]
  },
  {
   "cell_type": "code",
   "execution_count": 10,
   "metadata": {},
   "outputs": [
    {
     "data": {
      "text/plain": [
       "{'question': 'ལྷ་མོའི་འཁྲབ་གཞུང་ཆེ་བ་བརྒྱད་གང་དང་གང་ཡིན་ནམ།',\n",
       " 'answer': 'ལན། ལྷ་མོའི་འཁྲབ་གཞུང་བརྒྱད་ནི་སྣང་ས་འོད་འབུམ་དང་། རྒྱ་བཟའ་དང་བལ་བཟའ། གཟུགས་ཀྱི་ཉི་མ། འགྲོ་བ་བཟང་མོ། ཆོས་རྒྱལ་ནོར་བཟང་། པད་མ་འོད་འབར། དོན་ཡོད་དོན་གྲུབ། དྲི་མེད་ཀུན་ལྡན་བཅས་ཡིན།'}"
      ]
     },
     "execution_count": 10,
     "metadata": {},
     "output_type": "execute_result"
    }
   ],
   "source": [
    "dataset[3]"
   ]
  },
  {
   "cell_type": "code",
   "execution_count": null,
   "metadata": {},
   "outputs": [],
   "source": []
  }
 ],
 "metadata": {
  "kernelspec": {
   "display_name": "Python 3",
   "language": "python",
   "name": "python3"
  },
  "language_info": {
   "codemirror_mode": {
    "name": "ipython",
    "version": 3
   },
   "file_extension": ".py",
   "mimetype": "text/x-python",
   "name": "python",
   "nbconvert_exporter": "python",
   "pygments_lexer": "ipython3",
   "version": "3.11.3"
  }
 },
 "nbformat": 4,
 "nbformat_minor": 2
}
